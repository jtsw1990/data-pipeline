{
 "cells": [
  {
   "cell_type": "markdown",
   "metadata": {},
   "source": [
    "# Estimate Total Costings\n",
    "\n",
    "To estimate monhtly costings from:\n",
    "- Prompt engineering from GPT3.5\n",
    "- Image generation from DALL-E"
   ]
  },
  {
   "cell_type": "markdown",
   "metadata": {},
   "source": [
    "https://openai.com/pricing\n",
    "\n",
    "####  GPT4\n",
    "| Model | Input | Output |\n",
    "| -- | -- | -- |\n",
    "| 8K context | $0.03 / 1K tokens | $0.06 / 1K tokens |\n",
    "| 32K context | $0.06 / 1K tokens | $0.12 / 1K tokens|\n",
    "\n",
    "#### GPT3.5-turbo\n",
    "| Model | Input | Output |\n",
    "| -- | -- | -- |\n",
    "|4K context\t| $0.0015 / 1K tokens |$0.002 / 1K tokens |\n",
    "|16K context | $0.003 / 1K tokens | $0.004 / 1K tokens |\n",
    "\n",
    "\n",
    "#### DALL-E\n",
    "| Resolution | Price |\n",
    "| -- | -- |\n",
    "| 1024×1024 | $0.020 / image |\n",
    "| 512×512 | $0.018 / image |\n",
    "| 256×256 | $0.016 / image |"
   ]
  },
  {
   "cell_type": "code",
   "execution_count": 46,
   "metadata": {},
   "outputs": [],
   "source": [
    "# Check constants from website before running\n",
    "gpt4_8k = {'name': 'gpt4_8k', 'cost': {'input': 0.03, 'output': 0.06}}\n",
    "gpt4_32k = {'name': 'gpt4_32k', 'cost': {'input': 0.06, 'output': 0.12}}\n",
    "\n",
    "gpt35t_4k = {'name': 'gpt35t_4k', 'cost': {'input': 0.0015, 'output': 0.002}}\n",
    "gpt35t_16k = {'name': 'gpt35t_16k', 'cost': {'input': 0.003, 'output': 0.004}}\n",
    "\n",
    "dalle_1024 = {'name': 'dalle_1024', 'cost': 0.02}\n",
    "dalle_512 = {'name': 'dalle_512', 'cost': 0.018}\n",
    "dalle_256 = {'name': 'dallee_256', 'cost': 0.016}"
   ]
  },
  {
   "cell_type": "code",
   "execution_count": 37,
   "metadata": {},
   "outputs": [],
   "source": [
    "import os\n",
    "import boto3\n",
    "import json\n",
    "import itertools\n",
    "import numpy as np\n",
    "from dotenv import load_dotenv"
   ]
  },
  {
   "cell_type": "code",
   "execution_count": 2,
   "metadata": {},
   "outputs": [],
   "source": [
    "load_dotenv()\n",
    "\n",
    "aws_access_key = os.environ['aws_access_key']\n",
    "aws_secret_key = os.environ['aws_secret_key']\n",
    "aws_region = os.environ['aws_region']\n",
    "currents_api_key = os.environ['currents_api_key']"
   ]
  },
  {
   "cell_type": "code",
   "execution_count": 5,
   "metadata": {},
   "outputs": [],
   "source": [
    "s3 = boto3.client(\n",
    "        's3',\n",
    "        aws_access_key_id=aws_access_key,\n",
    "        aws_secret_access_key=aws_secret_key,\n",
    "        region_name=aws_region\n",
    ")\n",
    "\n",
    "bucket_name = 'glimpse-landing-dev'\n",
    "objs = s3.list_objects_v2(Bucket=bucket_name)['Contents']"
   ]
  },
  {
   "cell_type": "code",
   "execution_count": 6,
   "metadata": {},
   "outputs": [],
   "source": [
    "all_feeds = []\n",
    "\n",
    "for obj in objs:\n",
    "    response = s3.get_object(Bucket=bucket_name, Key=obj['Key'])\n",
    "    file_content = response['Body'].read().decode('utf-8')\n",
    "    json_content = json.loads(file_content)\n",
    "    all_feeds.append(json_content)"
   ]
  },
  {
   "cell_type": "code",
   "execution_count": 8,
   "metadata": {},
   "outputs": [],
   "source": [
    "all_news = [r['news'] for r in all_feeds]\n",
    "all_titles = [[news['title'] for news in day] for day in all_news]\n",
    "all_words = [' '.join(titles) for titles in all_titles]"
   ]
  },
  {
   "cell_type": "markdown",
   "metadata": {},
   "source": [
    "#### Input Prompt"
   ]
  },
  {
   "cell_type": "code",
   "execution_count": 53,
   "metadata": {},
   "outputs": [],
   "source": [
    "prompt = '''\n",
    "\n",
    "Can you adjust the following sentence surrounded by ``` with the following:\n",
    "- Adjust the sentence into one describing a person or a scene in less than 25 words\n",
    "- Replace any names with a description of their age, gender and ethnicity\n",
    "- Replace any political agendas to something more ambiguous\n",
    "- Be as descriptive as possible about the subject so that DALL-E can comprehend\n",
    "- Add in \"A street photo of\" to the start of the response\n",
    "- Add in \"shot by a Leica.\" at the back of the response\n",
    "\n",
    "```Bangladesh's worst ever dengue outbreak a 'canary in the coal mine' for climate crisis, WHO expert warns```\n",
    "A street photo of a concerned middle-aged Asian woman, her brows furrowed, emphasizing climate impact, shot by a Leica.\n",
    "'''\n",
    "\n"
   ]
  },
  {
   "cell_type": "code",
   "execution_count": 54,
   "metadata": {},
   "outputs": [],
   "source": [
    "input_template_tokens = len(prompt.split(' '))\n",
    "\n",
    "title_tokens = [len(article.split(' ')) for article in all_titles[0]]\n",
    "input_avg_input_tokens = np.round(np.mean(title_tokens), 0)\n",
    "\n",
    "output_max_tokens = 25\n",
    "\n",
    "total_est_input_tokens = input_template_tokens + input_avg_input_tokens\n",
    "total_est_output_tokens = output_max_tokens"
   ]
  },
  {
   "cell_type": "code",
   "execution_count": 55,
   "metadata": {},
   "outputs": [],
   "source": [
    "def total_monthly_cost(\n",
    "    gpt_model: dict, \n",
    "    img_cost: dict, \n",
    "    input: float, \n",
    "    output: float) -> float:\n",
    "\n",
    "    days_in_month = 30\n",
    "    daily_gpt_cost_input = (input * gpt_model['cost']['input']) / 1000\n",
    "    daily_gpt_cost_output = (output * gpt_model['cost']['output']) / 1000\n",
    "    daily_img_cost = img_cost['cost']\n",
    "    total_monthly_cost = (daily_gpt_cost_input + daily_gpt_cost_output + daily_img_cost) * days_in_month\n",
    "\n",
    "    return np.round(total_monthly_cost, 2) "
   ]
  },
  {
   "cell_type": "code",
   "execution_count": 56,
   "metadata": {},
   "outputs": [],
   "source": [
    "prompt_models = [gpt4_8k, gpt4_32k, gpt35t_4k, gpt35t_16k]\n",
    "img_models = [dalle_256, dalle_512, dalle_1024]\n",
    "inputs = [total_est_input_tokens]\n",
    "outputs = [total_est_output_tokens] \n",
    "\n",
    "combined = [prompt_models, img_models, inputs, outputs]\n",
    "\n",
    "combinations = list(itertools.product(*combined))"
   ]
  },
  {
   "cell_type": "code",
   "execution_count": 57,
   "metadata": {},
   "outputs": [
    {
     "name": "stdout",
     "output_type": "stream",
     "text": [
      "\n",
      "            Prompt Model: gpt4_8k\n",
      "            Image Resolution: dallee_256\n",
      "            Total monthly cost: $0.64\n",
      "          \n",
      "\n",
      "            Prompt Model: gpt4_8k\n",
      "            Image Resolution: dalle_512\n",
      "            Total monthly cost: $0.7\n",
      "          \n",
      "\n",
      "            Prompt Model: gpt4_8k\n",
      "            Image Resolution: dalle_1024\n",
      "            Total monthly cost: $0.76\n",
      "          \n",
      "\n",
      "            Prompt Model: gpt4_32k\n",
      "            Image Resolution: dallee_256\n",
      "            Total monthly cost: $0.8\n",
      "          \n",
      "\n",
      "            Prompt Model: gpt4_32k\n",
      "            Image Resolution: dalle_512\n",
      "            Total monthly cost: $0.86\n",
      "          \n",
      "\n",
      "            Prompt Model: gpt4_32k\n",
      "            Image Resolution: dalle_1024\n",
      "            Total monthly cost: $0.92\n",
      "          \n",
      "\n",
      "            Prompt Model: gpt35t_4k\n",
      "            Image Resolution: dallee_256\n",
      "            Total monthly cost: $0.49\n",
      "          \n",
      "\n",
      "            Prompt Model: gpt35t_4k\n",
      "            Image Resolution: dalle_512\n",
      "            Total monthly cost: $0.55\n",
      "          \n",
      "\n",
      "            Prompt Model: gpt35t_4k\n",
      "            Image Resolution: dalle_1024\n",
      "            Total monthly cost: $0.61\n",
      "          \n",
      "\n",
      "            Prompt Model: gpt35t_16k\n",
      "            Image Resolution: dallee_256\n",
      "            Total monthly cost: $0.49\n",
      "          \n",
      "\n",
      "            Prompt Model: gpt35t_16k\n",
      "            Image Resolution: dalle_512\n",
      "            Total monthly cost: $0.55\n",
      "          \n",
      "\n",
      "            Prompt Model: gpt35t_16k\n",
      "            Image Resolution: dalle_1024\n",
      "            Total monthly cost: $0.61\n",
      "          \n"
     ]
    }
   ],
   "source": [
    "for k in combinations:\n",
    "    print(\n",
    "        f'''\n",
    "            Prompt Model: {k[0]['name']}\n",
    "            Image Resolution: {k[1]['name']}\n",
    "            Total monthly cost: ${total_monthly_cost(k[0], k[1], k[2], k[3])}\n",
    "          '''\n",
    "          )"
   ]
  },
  {
   "cell_type": "code",
   "execution_count": null,
   "metadata": {},
   "outputs": [],
   "source": []
  }
 ],
 "metadata": {
  "kernelspec": {
   "display_name": "general",
   "language": "python",
   "name": "python3"
  },
  "language_info": {
   "codemirror_mode": {
    "name": "ipython",
    "version": 3
   },
   "file_extension": ".py",
   "mimetype": "text/x-python",
   "name": "python",
   "nbconvert_exporter": "python",
   "pygments_lexer": "ipython3",
   "version": "3.11.4"
  },
  "orig_nbformat": 4
 },
 "nbformat": 4,
 "nbformat_minor": 2
}
