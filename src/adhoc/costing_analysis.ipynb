{
 "cells": [
  {
   "cell_type": "markdown",
   "metadata": {},
   "source": [
    "# Estimate Total Costings"
   ]
  },
  {
   "cell_type": "markdown",
   "metadata": {},
   "source": [
    "https://openai.com/pricing\n",
    "\n",
    "####  GPT4\n",
    "| Model | Input | Output |\n",
    "| -- | -- | -- |\n",
    "| 8K context | $0.03 / 1K tokens | $0.06 / 1K tokens |\n",
    "| 32K context | $0.06 / 1K tokens | $0.12 / 1K tokens|\n",
    "\n",
    "#### GPT3.5-turbo\n",
    "| Model | Input | Output |\n",
    "| -- | -- | -- |\n",
    "|4K context\t| $0.0015 / 1K tokens |$0.002 / 1K tokens |\n",
    "|16K context | $0.003 / 1K tokens | $0.004 / 1K tokens |"
   ]
  },
  {
   "cell_type": "code",
   "execution_count": 56,
   "metadata": {},
   "outputs": [],
   "source": [
    "import os\n",
    "import boto3\n",
    "import json\n",
    "from dotenv import load_dotenv\n"
   ]
  },
  {
   "cell_type": "code",
   "execution_count": 2,
   "metadata": {},
   "outputs": [],
   "source": [
    "load_dotenv()\n",
    "\n",
    "aws_access_key = os.environ['aws_access_key']\n",
    "aws_secret_key = os.environ['aws_secret_key']\n",
    "aws_region = os.environ['aws_region']\n",
    "currents_api_key = os.environ['currents_api_key']"
   ]
  },
  {
   "cell_type": "code",
   "execution_count": 13,
   "metadata": {},
   "outputs": [],
   "source": [
    "s3 = boto3.client(\n",
    "        's3',\n",
    "        aws_access_key_id=aws_access_key,\n",
    "        aws_secret_access_key=aws_secret_key,\n",
    "        region_name=aws_region)\n",
    "\n",
    "bucket_name = 'glimpse-landing-dev'\n",
    "objs = s3.list_objects_v2(Bucket=bucket_name)['Contents']"
   ]
  },
  {
   "cell_type": "code",
   "execution_count": 26,
   "metadata": {},
   "outputs": [],
   "source": [
    "all_feeds = []\n",
    "\n",
    "for obj in objs:\n",
    "    response = s3.get_object(Bucket=bucket_name, Key=obj['Key'])\n",
    "    file_content = response['Body'].read().decode('utf-8')\n",
    "    json_content = json.loads(file_content)\n",
    "    all_feeds.append(json_content)"
   ]
  },
  {
   "cell_type": "code",
   "execution_count": 46,
   "metadata": {},
   "outputs": [],
   "source": [
    "all_news = [r['news'] for r in all_feeds]\n",
    "all_titles = [[news['title'] for news in day] for day in all_news]\n",
    "all_words = [' '.join(titles) for titles in all_titles]"
   ]
  },
  {
   "cell_type": "code",
   "execution_count": 51,
   "metadata": {},
   "outputs": [
    {
     "data": {
      "text/plain": [
       "[330, 380, 404]"
      ]
     },
     "execution_count": 51,
     "metadata": {},
     "output_type": "execute_result"
    }
   ],
   "source": [
    "est_tokens = [len(article.split(' ')) for article in all_words]"
   ]
  }
 ],
 "metadata": {
  "kernelspec": {
   "display_name": "general",
   "language": "python",
   "name": "python3"
  },
  "language_info": {
   "codemirror_mode": {
    "name": "ipython",
    "version": 3
   },
   "file_extension": ".py",
   "mimetype": "text/x-python",
   "name": "python",
   "nbconvert_exporter": "python",
   "pygments_lexer": "ipython3",
   "version": "3.11.4"
  },
  "orig_nbformat": 4
 },
 "nbformat": 4,
 "nbformat_minor": 2
}
