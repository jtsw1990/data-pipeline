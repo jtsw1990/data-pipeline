{
 "cells": [
  {
   "cell_type": "markdown",
   "metadata": {},
   "source": [
    "## Migration Testing - Leonardo"
   ]
  },
  {
   "cell_type": "markdown",
   "metadata": {},
   "source": [
    "#### Read in Currents feed"
   ]
  },
  {
   "cell_type": "code",
   "execution_count": 73,
   "metadata": {},
   "outputs": [],
   "source": [
    "from dotenv import load_dotenv\n",
    "from currentsapi import CurrentsAPI\n",
    "import os\n",
    "import json\n",
    "import requests\n",
    "import time\n",
    "import openai\n",
    "import random"
   ]
  },
  {
   "cell_type": "code",
   "execution_count": 62,
   "metadata": {},
   "outputs": [],
   "source": [
    "load_dotenv()\n",
    "currents_api_key = os.environ['currents_api_key']\n",
    "leonardo_api_key = os.environ['leonardo_key']\n",
    "openai.api_key = os.environ['openai_key']"
   ]
  },
  {
   "cell_type": "code",
   "execution_count": 6,
   "metadata": {},
   "outputs": [],
   "source": [
    "api = CurrentsAPI(api_key=currents_api_key)"
   ]
  },
  {
   "cell_type": "code",
   "execution_count": 48,
   "metadata": {},
   "outputs": [],
   "source": [
    "news_feed = api.search(country=\"\", language=\"en\", category=\"world\")"
   ]
  },
  {
   "cell_type": "markdown",
   "metadata": {},
   "source": [
    "#### Process into GPT prompt"
   ]
  },
  {
   "cell_type": "code",
   "execution_count": 60,
   "metadata": {},
   "outputs": [],
   "source": [
    "titles = [x['title'] for x in news_feed['news']]"
   ]
  },
  {
   "cell_type": "code",
   "execution_count": 75,
   "metadata": {},
   "outputs": [],
   "source": [
    "selected_snippet = random.choice(titles)"
   ]
  },
  {
   "cell_type": "code",
   "execution_count": 76,
   "metadata": {},
   "outputs": [],
   "source": [
    "prompt_template = '''\n",
    "Using the following snippet encased in ``, generate an image prompt of an imaginery human superhero or superheroine that is relevant to the snippet, be creating and detailed in the description of this character.\n",
    "Also come up with a creative backstory in around 50 words on this hero's origin story and his/her main superpower, and include some elements of the original snippet in the backstory.\n",
    "`Faces of hope: The freed hostages of Gaza`\n",
    "\n",
    "'''  # noqa: E501\n",
    "\n",
    "response_template = '''\n",
    "Imaginary Superhero: Lumina Salvator\n",
    "\n",
    "Description:\n",
    "Lumina Salvator, draped in a radiant cloak, emanates a warm glow reflecting the faces of the freed hostages. Their eyes shine with compassion, symbolizing the transformative power of hope emerging from the shadows.\n",
    "\n",
    "Backstory:\n",
    "Sarah Al-Hassan, a photojournalist, harnessed the energy of hope captured in her lens. Empowered, she became Lumina Salvator, using the light of captured moments to inspire healing and unity.\n",
    "\n",
    "Main Superpower:\n",
    "Photonic Healing - Lumina Salvator can harness and project healing energy through captured images, bringing solace and empowerment to those who have endured trauma, embodying the resilience of the freed hostages in Gaza.\n",
    "'''  # noqa: E501\n"
   ]
  },
  {
   "cell_type": "code",
   "execution_count": 77,
   "metadata": {},
   "outputs": [
    {
     "name": "stdout",
     "output_type": "stream",
     "text": [
      "Decision on North Dakota Wild Horses Expected Next Year\n",
      "Imaginary Superheroine: Equinox Rider\n",
      "\n",
      "Description:\n",
      "Equinox Rider, adorned in a sleek, equestrian-inspired suit, embodies the untamed spirit of wild horses. Her long, flowing hair matches the deep chestnut color of her loyal equine companion, as they navigate the battleground of justice.\n",
      "\n",
      "Backstory:\n",
      "As a passionate conservationist, Emily Rivers discovered a mystical amulet while studying wild horses in North Dakota. Transformed into Equinox Rider, she vows to protect these majestic creatures and their natural habitats from harm and exploitation.\n",
      "\n",
      "Main Superpower:\n",
      "Equine Empathy - Equinox Rider possesses the unique ability to communicate with and understand wild horses, forging a powerful bond that allows her to summon their strength and agility. She fights to preserve the freedom and existence of the wild horses in North Dakota, taking the decision into her own hands for their well-being.\n",
      "\n"
     ]
    }
   ],
   "source": [
    "completion = openai.ChatCompletion.create(\n",
    "        model=\"gpt-3.5-turbo\",\n",
    "        messages=[\n",
    "            {\n",
    "                'role': 'system',\n",
    "                'content': 'You are a creative character designer'\n",
    "            },\n",
    "            {\n",
    "                'role': 'user',\n",
    "                'content': prompt_template\n",
    "            },\n",
    "            {\n",
    "                'role': 'assistant',\n",
    "                'content': response_template\n",
    "            },\n",
    "            {\n",
    "                'role': 'user',\n",
    "                'content': f'Do the same for the following snippet: `{selected_snippet}`'  # noqa: E501\n",
    "            }\n",
    "        ]\n",
    "    )\n",
    "\n",
    "image_prompt = completion.choices[0].message.content\n",
    "\n",
    "print(selected_snippet)\n",
    "print(image_prompt)"
   ]
  },
  {
   "cell_type": "code",
   "execution_count": 78,
   "metadata": {},
   "outputs": [],
   "source": [
    "url = \"https://cloud.leonardo.ai/api/rest/v1/generations\"\n",
    "\n",
    "prompt = '''Equinox Rider, adorned in a sleek, equestrian-inspired suit, embodies the untamed spirit of wild horses. Her long, flowing hair matches the deep chestnut color of her loyal equine companion, as they navigate the battleground of justice.'''"
   ]
  },
  {
   "cell_type": "markdown",
   "metadata": {},
   "source": [
    "#### Call Leonardo AI"
   ]
  },
  {
   "cell_type": "code",
   "execution_count": 79,
   "metadata": {},
   "outputs": [
    {
     "name": "stdout",
     "output_type": "stream",
     "text": [
      "{\"sdGenerationJob\":{\"generationId\":\"3af9c073-aef5-464f-b2d8-5cac533ac3f4\",\"apiCreditCost\":24}}\n",
      "Sleeping...0\n",
      "Sleeping...1\n",
      "Sleeping...2\n",
      "Sleeping...3\n",
      "Sleeping...4\n",
      "Sleeping...5\n",
      "Sleeping...6\n",
      "Sleeping...7\n",
      "Sleeping...8\n",
      "Sleeping...9\n",
      "Sleeping...10\n",
      "Sleeping...11\n",
      "Sleeping...12\n",
      "Sleeping...13\n",
      "Sleeping...14\n",
      "Sleeping...15\n",
      "Sleeping...16\n",
      "Sleeping...17\n",
      "Sleeping...18\n",
      "Sleeping...19\n"
     ]
    }
   ],
   "source": [
    "\n",
    "url = \"https://cloud.leonardo.ai/api/rest/v1/generations\"\n",
    "\n",
    "payload = {\n",
    "    \"height\": 512,\n",
    "    \"modelId\": \"1e60896f-3c26-4296-8ecc-53e2afecc132\",\n",
    "    \"prompt\": prompt,\n",
    "    \"width\": 512,\n",
    "    \"alchemy\": True,\n",
    "    \"highResolution\": True,\n",
    "    \"nsfw\": True,\n",
    "    \"num_images\": 1,\n",
    "    \"photoReal\": False,\n",
    "    \"presetStyle\": \"CINEMATIC\",\n",
    "    \"expandedDomain\": True\n",
    "}\n",
    "headers = {\n",
    "    \"accept\": \"application/json\",\n",
    "    \"content-type\": \"application/json\",\n",
    "    \"authorization\": f\"Bearer {leonardo_api_key}\"\n",
    "}\n",
    "\n",
    "response = requests.post(url, json=payload, headers=headers)\n",
    "\n",
    "print(response.text)\n",
    "for k in range(20):\n",
    "    print(f'Sleeping...{k}')\n",
    "    time.sleep(1)"
   ]
  },
  {
   "cell_type": "code",
   "execution_count": 80,
   "metadata": {},
   "outputs": [],
   "source": [
    "gen_id = response.json()['sdGenerationJob']['generationId']"
   ]
  },
  {
   "cell_type": "markdown",
   "metadata": {},
   "source": [
    "#### Grab the generated image from a CDN"
   ]
  },
  {
   "cell_type": "code",
   "execution_count": 81,
   "metadata": {},
   "outputs": [
    {
     "name": "stdout",
     "output_type": "stream",
     "text": [
      "{\"generations_by_pk\":{\"generated_images\":[{\"url\":\"https://cdn.leonardo.ai/users/8c647f87-f517-478a-95a7-e7d8f2dc1271/generations/3af9c073-aef5-464f-b2d8-5cac533ac3f4/Leonardo_Diffusion_XL_Equinox_Rider_adorned_in_a_sleek_equestr_0.jpg\",\"nsfw\":false,\"id\":\"d8517cf2-40a9-4f4a-85ac-4311f9829151\",\"likeCount\":0,\"generated_image_variation_generics\":[]}],\"modelId\":\"1e60896f-3c26-4296-8ecc-53e2afecc132\",\"prompt\":\"Equinox Rider, adorned in a sleek, equestrian-inspired suit, embodies the untamed spirit of wild horses. Her long, flowing hair matches the deep chestnut color of her loyal equine companion, as they navigate the battleground of justice.\",\"negativePrompt\":\"\",\"imageHeight\":512,\"imageWidth\":512,\"inferenceSteps\":30,\"seed\":354823168,\"public\":false,\"scheduler\":\"EULER_DISCRETE\",\"sdVersion\":\"SDXL_0_9\",\"status\":\"COMPLETE\",\"presetStyle\":\"CINEMATIC\",\"initStrength\":null,\"guidanceScale\":null,\"id\":\"3af9c073-aef5-464f-b2d8-5cac533ac3f4\",\"createdAt\":\"2023-11-25T12:08:39.116\",\"promptMagic\":false,\"promptMagicVersion\":null,\"promptMagicStrength\":null,\"photoReal\":false,\"photoRealStrength\":null,\"generation_elements\":[]}}\n"
     ]
    }
   ],
   "source": [
    "url = f\"https://cloud.leonardo.ai/api/rest/v1/generations/{gen_id}\"\n",
    "\n",
    "headers = {\n",
    "    \"accept\": \"application/json\",\n",
    "    \"authorization\": f\"Bearer {leonardo_api_key}\"\n",
    "}\n",
    "\n",
    "response = requests.get(url, headers=headers)\n",
    "\n",
    "print(response.text)"
   ]
  },
  {
   "cell_type": "code",
   "execution_count": 88,
   "metadata": {},
   "outputs": [
    {
     "data": {
      "text/plain": [
       "'https://cdn.leonardo.ai/users/8c647f87-f517-478a-95a7-e7d8f2dc1271/generations/3af9c073-aef5-464f-b2d8-5cac533ac3f4/Leonardo_Diffusion_XL_Equinox_Rider_adorned_in_a_sleek_equestr_0.jpg'"
      ]
     },
     "execution_count": 88,
     "metadata": {},
     "output_type": "execute_result"
    }
   ],
   "source": [
    "response.json()['generations_by_pk']['generated_images'][0]['url']"
   ]
  },
  {
   "cell_type": "code",
   "execution_count": 87,
   "metadata": {},
   "outputs": [
    {
     "data": {
      "text/plain": [
       "{'generated_images': [{'url': 'https://cdn.leonardo.ai/users/8c647f87-f517-478a-95a7-e7d8f2dc1271/generations/3af9c073-aef5-464f-b2d8-5cac533ac3f4/Leonardo_Diffusion_XL_Equinox_Rider_adorned_in_a_sleek_equestr_0.jpg',\n",
       "   'nsfw': False,\n",
       "   'id': 'd8517cf2-40a9-4f4a-85ac-4311f9829151',\n",
       "   'likeCount': 0,\n",
       "   'generated_image_variation_generics': []}],\n",
       " 'modelId': '1e60896f-3c26-4296-8ecc-53e2afecc132',\n",
       " 'prompt': 'Equinox Rider, adorned in a sleek, equestrian-inspired suit, embodies the untamed spirit of wild horses. Her long, flowing hair matches the deep chestnut color of her loyal equine companion, as they navigate the battleground of justice.',\n",
       " 'negativePrompt': '',\n",
       " 'imageHeight': 512,\n",
       " 'imageWidth': 512,\n",
       " 'inferenceSteps': 30,\n",
       " 'seed': 354823168,\n",
       " 'public': False,\n",
       " 'scheduler': 'EULER_DISCRETE',\n",
       " 'sdVersion': 'SDXL_0_9',\n",
       " 'status': 'COMPLETE',\n",
       " 'presetStyle': 'CINEMATIC',\n",
       " 'initStrength': None,\n",
       " 'guidanceScale': None,\n",
       " 'id': '3af9c073-aef5-464f-b2d8-5cac533ac3f4',\n",
       " 'createdAt': '2023-11-25T12:08:39.116',\n",
       " 'promptMagic': False,\n",
       " 'promptMagicVersion': None,\n",
       " 'promptMagicStrength': None,\n",
       " 'photoReal': False,\n",
       " 'photoRealStrength': None,\n",
       " 'generation_elements': []}"
      ]
     },
     "execution_count": 87,
     "metadata": {},
     "output_type": "execute_result"
    }
   ],
   "source": [
    "response.json()['generations_by_pk']"
   ]
  },
  {
   "cell_type": "code",
   "execution_count": null,
   "metadata": {},
   "outputs": [],
   "source": []
  }
 ],
 "metadata": {
  "kernelspec": {
   "display_name": "general",
   "language": "python",
   "name": "python3"
  },
  "language_info": {
   "codemirror_mode": {
    "name": "ipython",
    "version": 3
   },
   "file_extension": ".py",
   "mimetype": "text/x-python",
   "name": "python",
   "nbconvert_exporter": "python",
   "pygments_lexer": "ipython3",
   "version": "3.11.4"
  }
 },
 "nbformat": 4,
 "nbformat_minor": 2
}
