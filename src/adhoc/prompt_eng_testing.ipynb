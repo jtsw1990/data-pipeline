{
 "cells": [
  {
   "cell_type": "markdown",
   "metadata": {},
   "source": [
    "## Migration Testing - Leonardo"
   ]
  },
  {
   "cell_type": "markdown",
   "metadata": {},
   "source": [
    "#### Read in Currents feed"
   ]
  },
  {
   "cell_type": "code",
   "execution_count": 1,
   "metadata": {},
   "outputs": [],
   "source": [
    "from dotenv import load_dotenv\n",
    "from currentsapi import CurrentsAPI\n",
    "import os\n",
    "import requests\n",
    "import time\n",
    "import openai\n",
    "import random"
   ]
  },
  {
   "cell_type": "code",
   "execution_count": 2,
   "metadata": {},
   "outputs": [],
   "source": [
    "load_dotenv()\n",
    "currents_api_key = os.environ['currents_api_key']\n",
    "leonardo_api_key = os.environ['leonardo_key']\n",
    "openai.api_key = os.environ['openai_key']"
   ]
  },
  {
   "cell_type": "code",
   "execution_count": 3,
   "metadata": {},
   "outputs": [],
   "source": [
    "api = CurrentsAPI(api_key=currents_api_key)"
   ]
  },
  {
   "cell_type": "code",
   "execution_count": 4,
   "metadata": {},
   "outputs": [],
   "source": [
    "news_feed = api.search(country=\"\", language=\"en\", category=\"world\")"
   ]
  },
  {
   "cell_type": "markdown",
   "metadata": {},
   "source": [
    "#### Process into GPT prompt"
   ]
  },
  {
   "cell_type": "code",
   "execution_count": 5,
   "metadata": {},
   "outputs": [],
   "source": [
    "titles = [x['title'] for x in news_feed['news']]"
   ]
  },
  {
   "cell_type": "code",
   "execution_count": 6,
   "metadata": {},
   "outputs": [
    {
     "data": {
      "text/plain": [
       "['Cuba Thwarts Terror Plot by South Florida Man Who Arrived by Jetski, Report Says - News18',\n",
       " \"'Reiterated India's Long-Standing Position': Jaishankar After Speaking to Palestinian PM on Gaza Crisis - News18\",\n",
       " 'Hong Kong holds first council elections under new rules that shut out pro-democracy candidates',\n",
       " 'Philippines, China trade accusations over South China Sea collision',\n",
       " \"Guyana and Venezuela's Territorial Dispute: What to Know\",\n",
       " 'US Business Leaders Rally Around Indian American GOP Candidate Nikki Haley Over Trump - News18',\n",
       " 'Palestinians report Israeli battles in Khan Younis after US blocks Gaza ceasefire call',\n",
       " 'France detains 80 in largest child sex crime swoop',\n",
       " \"Philippine supply boat 'rammed' by China Coast Guard vessel, says official\",\n",
       " 'Democrat John Whitmire Elected Houston Mayor',\n",
       " \"China's Xi looks to strengthen Vietnam ties after Biden visit\",\n",
       " \"Hong Kong Holds First 'Patriots Only' Local Elections - News18\",\n",
       " 'Cuba thwarts terrorist plot by Florida man who arrived by jetski: State-run media',\n",
       " 'French Military Downs Two Drones Headed from Yemen Over Red Sea - News18',\n",
       " 'Iraq’s Kataeb Hezbollah vows more attacks on US forces',\n",
       " \"U.S. and Philippines condemn the Chinese coast guard's water cannon blasts on fisheries vessels\",\n",
       " 'Clash in Mexican Town Kills 4 Villagers and 10 Gunmen',\n",
       " 'Israel presses on with bombarding Gaza, including areas it has called safe zones for Palestinians',\n",
       " \"Hot glazed doughnuts are on the menu, and Parisians can't get enough\",\n",
       " \"Hong Kong holds first 'patriots only' local elections\",\n",
       " \"Israeli Forces Push Into Southern Gaza Strip, UN Agencies Rue 'Apocalyptic' Humanitarian Crisis - News18\",\n",
       " 'Record-breaking heatwave eases as two months’ worth of rain soaks parts of South Australia',\n",
       " 'Israel presses on with its Gaza offensive after US veto derails Security Council efforts to halt war',\n",
       " 'Workshop collapses in southern China, killing 6 and injuring 3',\n",
       " 'Elon Musk says he may bring conspiracy theorist Alex Jones back to X',\n",
       " '6 Dead, 2 Dozen Injured After Severe Storms in Tennessee',\n",
       " \"WATCH: Philippine Supply Boat 'Rammed' by China Coast Guard Vessel in South China Sea - News18\",\n",
       " 'Chinese tourists who refused to stop taking selfies fall into cold Venice canal after gondola capsizes',\n",
       " '3 Dead, Nearly 2 Dozen Injured After a Tornado Tears Through the Middle of Tennessee - News18',\n",
       " \"WATCH: Israeli Military Releases Video of Hamas' Day Light Robbery of Humanitarian Aid - News18\"]"
      ]
     },
     "execution_count": 6,
     "metadata": {},
     "output_type": "execute_result"
    }
   ],
   "source": [
    "titles"
   ]
  },
  {
   "cell_type": "code",
   "execution_count": 7,
   "metadata": {},
   "outputs": [],
   "source": [
    "selected_snippet = random.choice(titles)\n",
    "#selected_snippet= '''China Protests Calls to Include Taiwan in Climate Talks'''"
   ]
  },
  {
   "cell_type": "code",
   "execution_count": 8,
   "metadata": {},
   "outputs": [
    {
     "data": {
      "text/plain": [
       "'Palestinians report Israeli battles in Khan Younis after US blocks Gaza ceasefire call'"
      ]
     },
     "execution_count": 8,
     "metadata": {},
     "output_type": "execute_result"
    }
   ],
   "source": [
    "selected_snippet"
   ]
  },
  {
   "cell_type": "code",
   "execution_count": 9,
   "metadata": {},
   "outputs": [],
   "source": [
    "prompt_template = '''\n",
    "Using the following snippet encased in ```, generate an image prompt of a robot that is inspired by a mix of Transformers, Gundam and Samurai armour, and is relevant to the snippet. The robot must take the shape of a random animal. Be detailed in the description of this robot. Ensure that the design and mechanism of it's body is very intricate, using a suitable 3 colour palette that includes black as a base with accents of the other 2 colours.\n",
    "\n",
    "Also come up with a creative backstory in around 50 words on this robot's origin story, and include elements of the original snippet in the backstory.\n",
    "\n",
    "```Sri Lanka Suffers Brief Power Outage After Main Transmission Line Fails```\n",
    "'''  # noqa: E501\n",
    "\n",
    "response_template = '''\n",
    "Design Description:\n",
    "Introducing \"EnergiPanther,\" a robotic marvel blending Transformers, Gundam, and Samurai aesthetics. This sleek mechanized panther stands at 25 feet, adorned in intricate black armor with accents of deep crimson and electric gold. The samurai-inspired patterns on its chassis exude elegance, and its articulated limbs display a fusion of strength and precision.\n",
    "\n",
    "In a majestic pose, EnergiPanther prowls, its golden eyes gleaming with determination. The crimson energy pulsating through its tail signifies the power coursing through its cybernetic veins.\n",
    "\n",
    "Backstory:\n",
    "Forged by visionary Sri Lankan engineers post a crucial power outage, EnergiPanther embodies the nation's spirit. The main transmission line failure spurred its creation, fusing traditional samurai ethos with cutting-edge robotics. EnergiPanther now stands as a guardian, symbolizing Sri Lanka's commitment to overcoming challenges and ensuring an uninterrupted power supply.'''"
   ]
  },
  {
   "cell_type": "code",
   "execution_count": 10,
   "metadata": {},
   "outputs": [
    {
     "name": "stdout",
     "output_type": "stream",
     "text": [
      "Palestinians report Israeli battles in Khan Younis after US blocks Gaza ceasefire call\n",
      "Design Description:\n",
      "Introducing \"WarriorFalcon,\" a magnificent robotic creation influenced by Transformers, Gundam, and the ancient art of falconry. This avian-inspired robot stands tall, with a regal presence. Its sleek, black armor serves as the base, adorned with accents of vibrant green and metallic silver. Intricate patterns resembling feathers grace its body, showcasing meticulous craftsmanship.\n",
      "\n",
      "WarriorFalcon stands poised, wings partially unfurled, ready to take flight. Its emerald eyes glow with fierce determination, and its silver talons gleam, showcasing its formidable strength and agility.\n",
      "\n",
      "Backstory:\n",
      "Engineered as a response to the escalating conflict between Israelis and Palestinians, WarriorFalcon embodies the resilience and determination of the Palestinian people. Inspired by the tales of ancient falconry, this robotic warrior combines traditional symbolism with cutting-edge technology. United in their despair after the US blocked a ceasefire call, the Palestinians sought solace in the creation of WarriorFalcon—a powerful symbol of their refusal to back down and their unwavering call for peace.\n"
     ]
    }
   ],
   "source": [
    "completion = openai.ChatCompletion.create(\n",
    "        model=\"gpt-3.5-turbo\",\n",
    "        messages=[\n",
    "            {\n",
    "                'role': 'system',\n",
    "                'content': 'You are a creative character designer'\n",
    "            },\n",
    "            {\n",
    "                'role': 'user',\n",
    "                'content': prompt_template\n",
    "            },\n",
    "            {\n",
    "                'role': 'assistant',\n",
    "                'content': response_template\n",
    "            },\n",
    "            {\n",
    "                'role': 'user',\n",
    "                'content': f'Do the same for the following snippet: `{selected_snippet}`'  # noqa: E501\n",
    "            }\n",
    "        ]\n",
    "    )\n",
    "\n",
    "image_prompt = completion.choices[0].message.content\n",
    "\n",
    "print(selected_snippet)\n",
    "print(image_prompt)"
   ]
  },
  {
   "cell_type": "code",
   "execution_count": 11,
   "metadata": {},
   "outputs": [],
   "source": [
    "prompt = image_prompt.replace('\\n', '').split('Design Description:')[-1].split('Backstory:')[0]\n",
    "post_text = image_prompt.replace('\\n', '').split('Backstory:')[-1]"
   ]
  },
  {
   "cell_type": "code",
   "execution_count": 12,
   "metadata": {},
   "outputs": [],
   "source": [
    "final_text = post_text"
   ]
  },
  {
   "cell_type": "code",
   "execution_count": 13,
   "metadata": {},
   "outputs": [
    {
     "data": {
      "text/plain": [
       "'\\nelements_endpoint = \"https://cloud.leonardo.ai/api/rest/v1/elements\"\\n\\nheaders = {\\n    \"accept\": \"application/json\",\\n    \"authorization\": f\"Bearer {leonardo_api_key}\"\\n}\\n\\nelements_response = requests.get(elements_endpoint, headers=headers)\\n\\nelem_list = [(x[\\'akUUID\\'], x[\\'weightMax\\']) for x in elements_response.json()[\\'loras\\']]\\nselected_elem = random.choice(elem_list)\\n'"
      ]
     },
     "execution_count": 13,
     "metadata": {},
     "output_type": "execute_result"
    }
   ],
   "source": [
    "\"\"\"\n",
    "elements_endpoint = \"https://cloud.leonardo.ai/api/rest/v1/elements\"\n",
    "\n",
    "headers = {\n",
    "    \"accept\": \"application/json\",\n",
    "    \"authorization\": f\"Bearer {leonardo_api_key}\"\n",
    "}\n",
    "\n",
    "elements_response = requests.get(elements_endpoint, headers=headers)\n",
    "\n",
    "elem_list = [(x['akUUID'], x['weightMax']) for x in elements_response.json()['loras']]\n",
    "selected_elem = random.choice(elem_list)\n",
    "\"\"\""
   ]
  },
  {
   "cell_type": "markdown",
   "metadata": {},
   "source": [
    "#### Call Leonardo AI"
   ]
  },
  {
   "cell_type": "code",
   "execution_count": 14,
   "metadata": {},
   "outputs": [
    {
     "name": "stdout",
     "output_type": "stream",
     "text": [
      "{\"sdGenerationJob\":{\"generationId\":\"f217b6b7-dc15-4837-bbb4-08a9231914d3\",\"apiCreditCost\":24}}\n",
      "Sleeping...0\n",
      "Sleeping...1\n"
     ]
    }
   ],
   "source": [
    "\n",
    "url = \"https://cloud.leonardo.ai/api/rest/v1/generations\"\n",
    "\n",
    "payload = {\n",
    "    \"modelId\": \"1e60896f-3c26-4296-8ecc-53e2afecc132\",\n",
    "    \"prompt\": prompt,\n",
    "    \"height\": 512,\n",
    "    \"width\": 512,\n",
    "    \"alchemy\": True,\n",
    "    \"highResolution\": True,\n",
    "    \"highResolution\": True,\n",
    "    \"nsfw\": True,\n",
    "    \"num_images\": 1,\n",
    "    \"presetStyle\": \"CREATIVE\",\n",
    "    \"public\": True,\n",
    "    \"expandedDomain\": True\n",
    "}\n",
    "headers = {\n",
    "    \"accept\": \"application/json\",\n",
    "    \"content-type\": \"application/json\",\n",
    "    \"authorization\": f\"Bearer {leonardo_api_key}\"\n",
    "}\n",
    "\n",
    "response = requests.post(url, json=payload, headers=headers)\n",
    "\n",
    "print(response.text)\n",
    "for k in range(20):\n",
    "    print(f'Sleeping...{k}')\n",
    "    time.sleep(1)"
   ]
  },
  {
   "cell_type": "code",
   "execution_count": null,
   "metadata": {},
   "outputs": [
    {
     "data": {
      "text/plain": [
       "{'sdGenerationJob': {'generationId': '37c4ac26-2a79-4a91-80e2-43f0a36c796e',\n",
       "  'apiCreditCost': 24}}"
      ]
     },
     "execution_count": 142,
     "metadata": {},
     "output_type": "execute_result"
    }
   ],
   "source": [
    "response.json()"
   ]
  },
  {
   "cell_type": "code",
   "execution_count": null,
   "metadata": {},
   "outputs": [],
   "source": [
    "gen_id = response.json()['sdGenerationJob']['generationId']"
   ]
  },
  {
   "cell_type": "markdown",
   "metadata": {},
   "source": [
    "#### Grab the generated image from a CDN"
   ]
  },
  {
   "cell_type": "code",
   "execution_count": null,
   "metadata": {},
   "outputs": [
    {
     "name": "stdout",
     "output_type": "stream",
     "text": [
      "{\"generations_by_pk\":{\"generated_images\":[{\"url\":\"https://cdn.leonardo.ai/users/8c647f87-f517-478a-95a7-e7d8f2dc1271/generations/37c4ac26-2a79-4a91-80e2-43f0a36c796e/Leonardo_Diffusion_XL_Introducing_Harmony_Guardian_a_striking_0.jpg\",\"nsfw\":false,\"id\":\"40f79da4-9b8c-447d-8839-e5de8b5e61e3\",\"likeCount\":0,\"generated_image_variation_generics\":[]}],\"modelId\":\"1e60896f-3c26-4296-8ecc-53e2afecc132\",\"prompt\":\"Introducing \\\"Harmony Guardian,\\\" a striking robot inspired by a blend of Transformers, Gundam, and medieval knight aesthetics. This humanoid robot stands tall at 20 feet, exuding an air of strength and honor. Its intricate body design incorporates a primarily black armored frame highlighted with accents of cool blue and shimmering silver.Harmony Guardian's imposing appearance is reminiscent of a noble knight of old. Its sleek armor features intricate engravings that symbolize unity and diversity. The blue lines that trace its edges represent the importance of inclusivity, while the silver accents emphasize the technological advancements incorporated into its design.In a powerful action pose, Harmony Guardian wields a large, emblematic shield in its left hand, reflecting its commitment to safeguarding diversity. Its right hand is poised as if summoning the strength of unity, with energy crackling around its fingertips.\",\"negativePrompt\":\"\",\"imageHeight\":512,\"imageWidth\":512,\"inferenceSteps\":30,\"seed\":230191104,\"public\":true,\"scheduler\":\"EULER_DISCRETE\",\"sdVersion\":\"SDXL_0_9\",\"status\":\"COMPLETE\",\"presetStyle\":\"CREATIVE\",\"initStrength\":null,\"guidanceScale\":null,\"id\":\"37c4ac26-2a79-4a91-80e2-43f0a36c796e\",\"createdAt\":\"2023-12-10T05:25:12.969\",\"promptMagic\":false,\"promptMagicVersion\":null,\"promptMagicStrength\":null,\"photoReal\":false,\"photoRealStrength\":null,\"fantasyAvatar\":null,\"generation_elements\":[]}}\n"
     ]
    }
   ],
   "source": [
    "url = f\"https://cloud.leonardo.ai/api/rest/v1/generations/{gen_id}\"\n",
    "\n",
    "headers = {\n",
    "    \"accept\": \"application/json\",\n",
    "    \"authorization\": f\"Bearer {leonardo_api_key}\"\n",
    "}\n",
    "\n",
    "response = requests.get(url, headers=headers)\n",
    "\n",
    "print(response.text)"
   ]
  },
  {
   "cell_type": "code",
   "execution_count": null,
   "metadata": {},
   "outputs": [
    {
     "name": "stdout",
     "output_type": "stream",
     "text": [
      "Rejected by Wisconsin university regents, Harmony Guardian was initially meant to be a symbol of unity and progress. Created in collaboration between progressive-minded Republicans and the diverse university community, this robot was envisioned to serve as a reminder of the value of diversity positions. Despite the rejection, Harmony Guardian has become a beacon of hope in the hearts of those who believe in the power of inclusivity, aiming to inspire positive change within society.\n"
     ]
    }
   ],
   "source": [
    "print(final_text)"
   ]
  },
  {
   "cell_type": "code",
   "execution_count": null,
   "metadata": {},
   "outputs": [],
   "source": []
  },
  {
   "cell_type": "code",
   "execution_count": null,
   "metadata": {},
   "outputs": [],
   "source": []
  }
 ],
 "metadata": {
  "kernelspec": {
   "display_name": "general",
   "language": "python",
   "name": "python3"
  },
  "language_info": {
   "codemirror_mode": {
    "name": "ipython",
    "version": 3
   },
   "file_extension": ".py",
   "mimetype": "text/x-python",
   "name": "python",
   "nbconvert_exporter": "python",
   "pygments_lexer": "ipython3",
   "version": "3.11.4"
  }
 },
 "nbformat": 4,
 "nbformat_minor": 2
}
