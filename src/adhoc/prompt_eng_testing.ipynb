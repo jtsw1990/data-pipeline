{
 "cells": [
  {
   "cell_type": "markdown",
   "metadata": {},
   "source": [
    "## Migration Testing - Leonardo"
   ]
  },
  {
   "cell_type": "markdown",
   "metadata": {},
   "source": [
    "#### Read in Currents feed"
   ]
  },
  {
   "cell_type": "code",
   "execution_count": 1,
   "metadata": {},
   "outputs": [],
   "source": [
    "from dotenv import load_dotenv\n",
    "from currentsapi import CurrentsAPI\n",
    "import os\n",
    "import requests\n",
    "import time\n",
    "import openai\n",
    "import random"
   ]
  },
  {
   "cell_type": "code",
   "execution_count": 2,
   "metadata": {},
   "outputs": [],
   "source": [
    "load_dotenv()\n",
    "currents_api_key = os.environ['currents_api_key']\n",
    "leonardo_api_key = os.environ['leonardo_key']\n",
    "openai.api_key = os.environ['openai_key']"
   ]
  },
  {
   "cell_type": "code",
   "execution_count": 3,
   "metadata": {},
   "outputs": [],
   "source": [
    "api = CurrentsAPI(api_key=currents_api_key)"
   ]
  },
  {
   "cell_type": "code",
   "execution_count": 4,
   "metadata": {},
   "outputs": [],
   "source": [
    "news_feed = api.search(country=\"\", language=\"en\", category=\"world\")"
   ]
  },
  {
   "cell_type": "markdown",
   "metadata": {},
   "source": [
    "#### Process into GPT prompt"
   ]
  },
  {
   "cell_type": "code",
   "execution_count": 5,
   "metadata": {},
   "outputs": [],
   "source": [
    "titles = [x['title'] for x in news_feed['news']]"
   ]
  },
  {
   "cell_type": "code",
   "execution_count": 6,
   "metadata": {},
   "outputs": [],
   "source": [
    "selected_snippet = random.choice(titles)"
   ]
  },
  {
   "cell_type": "code",
   "execution_count": 7,
   "metadata": {},
   "outputs": [
    {
     "data": {
      "text/plain": [
       "'Three Far-Right Groups Face Ban in France - News18'"
      ]
     },
     "execution_count": 7,
     "metadata": {},
     "output_type": "execute_result"
    }
   ],
   "source": [
    "selected_snippet"
   ]
  },
  {
   "cell_type": "code",
   "execution_count": 8,
   "metadata": {},
   "outputs": [],
   "source": [
    "prompt_template = '''\n",
    "Using the following snippet encased in ```, generate an image prompt of an imaginary character that is relevant to the snippet, be extravagent and detailed in the description of this character including the type of creature (if applicable), race, age group, ethnicity and appearance. Ensure that the overall character design aligns with the original snippet and a random action pose is included in the description.\n",
    "\n",
    "Also come up with a creative backstory in around 50 words on this character's origin story and his/her/its main superpower, and include elements of the original snippet in the backstory.\n",
    "\n",
    "```Russia Extends Detention of US Journalist```\n",
    "'''  # noqa: E501\n",
    "\n",
    "response_template = '''\n",
    "Imaginary Character: Lumis Shadowcloak, Guardian of Free Thought\n",
    "\n",
    "Description:\n",
    "Lumis, an enigmatic ethereal being with flowing robes that morph into celestial constellations. Their eyes gleam with cosmic wisdom, reflecting the ages. Lumis stands defiant, one hand reaching for the stars, the other shielding the truth-seekers from the oppressive shadows.\n",
    "\n",
    "Backstory:\n",
    "Lumis, born from the celestial whispers of suppressed voices, is the embodiment of free thought. Originating in the astral plane, they journey through dimensions to champion journalists. Their power, Celestial Ward, shields truth-seekers against oppressive forces.\n",
    "'''"
   ]
  },
  {
   "cell_type": "code",
   "execution_count": 9,
   "metadata": {},
   "outputs": [
    {
     "name": "stdout",
     "output_type": "stream",
     "text": [
      "Three Far-Right Groups Face Ban in France - News18\n",
      "Imaginary Character: Valeria Stormrider, Bastion of Equality\n",
      "\n",
      "Description:\n",
      "Valeria, a fierce warrior with flowing silver hair and piercing blue eyes, dons an intricate armor adorned with symbols of unity. Standing tall with a confident expression, she wields a gleaming silver staff, channeling her potent power. Her aura radiates strength and determination, instilling hope in the hearts of those fighting for equality.\n",
      "\n",
      "Backstory:\n",
      "Valeria, a descendant of ancient druids, possesses an innate connection to the elements. Raised in the lush forests of France, she witnessed the rise of extremist groups threatening harmony. Gifted with the power of Elemental Harmony, she harnesses the forces of nature to combat hatred and division, and strives to bring balance back to society.\n"
     ]
    }
   ],
   "source": [
    "completion = openai.ChatCompletion.create(\n",
    "        model=\"gpt-3.5-turbo\",\n",
    "        messages=[\n",
    "            {\n",
    "                'role': 'system',\n",
    "                'content': 'You are a creative character designer'\n",
    "            },\n",
    "            {\n",
    "                'role': 'user',\n",
    "                'content': prompt_template\n",
    "            },\n",
    "            {\n",
    "                'role': 'assistant',\n",
    "                'content': response_template\n",
    "            },\n",
    "            {\n",
    "                'role': 'user',\n",
    "                'content': f'Do the same for the following snippet: `{selected_snippet}`'  # noqa: E501\n",
    "            }\n",
    "        ]\n",
    "    )\n",
    "\n",
    "image_prompt = completion.choices[0].message.content\n",
    "\n",
    "print(selected_snippet)\n",
    "print(image_prompt)"
   ]
  },
  {
   "cell_type": "code",
   "execution_count": 10,
   "metadata": {},
   "outputs": [],
   "source": [
    "prompt = image_prompt.replace('\\n', '').split('Description:')[-1].split('Backstory:')[0]\n",
    "post_text = image_prompt.replace('\\n', '').split('Backstory:')[-1]"
   ]
  },
  {
   "cell_type": "code",
   "execution_count": 11,
   "metadata": {},
   "outputs": [],
   "source": [
    "p1 = post_text.split('Main Superpower:')[0]\n",
    "p2 = post_text.split('Main Superpower:')[-1].split(' - ')[-1]\n",
    "final_text = p1 + ' ' + p2"
   ]
  },
  {
   "cell_type": "code",
   "execution_count": 12,
   "metadata": {},
   "outputs": [],
   "source": [
    "\n",
    "elements_endpoint = \"https://cloud.leonardo.ai/api/rest/v1/elements\"\n",
    "\n",
    "headers = {\n",
    "    \"accept\": \"application/json\",\n",
    "    \"authorization\": f\"Bearer {leonardo_api_key}\"\n",
    "}\n",
    "\n",
    "elements_response = requests.get(elements_endpoint, headers=headers)"
   ]
  },
  {
   "cell_type": "code",
   "execution_count": 24,
   "metadata": {},
   "outputs": [
    {
     "data": {
      "text/plain": [
       "['v1_5',\n",
       " 'SDXL_1_0',\n",
       " 'v1_5',\n",
       " 'v1_5',\n",
       " 'SDXL_1_0',\n",
       " 'v1_5',\n",
       " 'v1_5',\n",
       " 'v1_5',\n",
       " 'v1_5',\n",
       " 'SDXL_1_0',\n",
       " 'v1_5',\n",
       " 'v1_5',\n",
       " 'v1_5',\n",
       " 'SDXL_1_0',\n",
       " 'v1_5',\n",
       " 'v2',\n",
       " 'v1_5',\n",
       " 'v1_5']"
      ]
     },
     "execution_count": 24,
     "metadata": {},
     "output_type": "execute_result"
    }
   ],
   "source": [
    "[x['baseModel'] for x in elements_response.json()['loras']]"
   ]
  },
  {
   "cell_type": "code",
   "execution_count": 13,
   "metadata": {},
   "outputs": [],
   "source": [
    "elem_list = [(x['akUUID'], x['weightMax']) for x in elements_response.json()['loras']]\n",
    "selected_elem = random.choice(elem_list)"
   ]
  },
  {
   "cell_type": "markdown",
   "metadata": {},
   "source": [
    "#### Call Leonardo AI"
   ]
  },
  {
   "cell_type": "code",
   "execution_count": 20,
   "metadata": {},
   "outputs": [
    {
     "name": "stdout",
     "output_type": "stream",
     "text": [
      "{\"error\":\"elements input is not compatible with sdVersion: SDXL_0_9\",\"path\":\"$\",\"code\":\"unexpected\"}\n",
      "Sleeping...0\n",
      "Sleeping...1\n",
      "Sleeping...2\n",
      "Sleeping...3\n",
      "Sleeping...4\n",
      "Sleeping...5\n",
      "Sleeping...6\n",
      "Sleeping...7\n",
      "Sleeping...8\n",
      "Sleeping...9\n",
      "Sleeping...10\n",
      "Sleeping...11\n",
      "Sleeping...12\n",
      "Sleeping...13\n",
      "Sleeping...14\n",
      "Sleeping...15\n",
      "Sleeping...16\n",
      "Sleeping...17\n",
      "Sleeping...18\n",
      "Sleeping...19\n"
     ]
    }
   ],
   "source": [
    "\n",
    "url = \"https://cloud.leonardo.ai/api/rest/v1/generations\"\n",
    "\n",
    "payload = {\n",
    "    \"modelId\": \"1e60896f-3c26-4296-8ecc-53e2afecc132\",\n",
    "    \"prompt\": prompt,\n",
    "    \"height\": 512,\n",
    "    \"width\": 512,\n",
    "    \"alchemy\": True,\n",
    "    \"highResolution\": True,\n",
    "    \"elements\": [\n",
    "        {\n",
    "            \"akUUID\": selected_elem[0],\n",
    "            \"weight\": selected_elem[-1]\n",
    "        }\n",
    "    ],\n",
    "    \"highResolution\": True,\n",
    "    \"nsfw\": True,\n",
    "    \"num_images\": 1,\n",
    "    #\"photoReal\": True,\n",
    "    #\"photoRealStrength\": 0.45,\n",
    "    \"presetStyle\": \"CINEMATIC\",\n",
    "    \"public\": True,\n",
    "    \"expandedDomain\": True\n",
    "}\n",
    "headers = {\n",
    "    \"accept\": \"application/json\",\n",
    "    \"content-type\": \"application/json\",\n",
    "    \"authorization\": f\"Bearer {leonardo_api_key}\"\n",
    "}\n",
    "\n",
    "response = requests.post(url, json=payload, headers=headers)\n",
    "\n",
    "print(response.text)\n",
    "for k in range(20):\n",
    "    print(f'Sleeping...{k}')\n",
    "    time.sleep(1)"
   ]
  },
  {
   "cell_type": "code",
   "execution_count": 21,
   "metadata": {},
   "outputs": [
    {
     "data": {
      "text/plain": [
       "{'error': 'elements input is not compatible with sdVersion: SDXL_0_9',\n",
       " 'path': '$',\n",
       " 'code': 'unexpected'}"
      ]
     },
     "execution_count": 21,
     "metadata": {},
     "output_type": "execute_result"
    }
   ],
   "source": [
    "response.json()"
   ]
  },
  {
   "cell_type": "code",
   "execution_count": 22,
   "metadata": {},
   "outputs": [
    {
     "ename": "KeyError",
     "evalue": "'sdGenerationJob'",
     "output_type": "error",
     "traceback": [
      "\u001b[1;31m---------------------------------------------------------------------------\u001b[0m",
      "\u001b[1;31mKeyError\u001b[0m                                  Traceback (most recent call last)",
      "\u001b[1;32mc:\\Users\\jtsw1\\Desktop\\projects\\data-pipeline\\src\\adhoc\\prompt_eng_testing.ipynb Cell 20\u001b[0m line \u001b[0;36m1\n\u001b[1;32m----> <a href='vscode-notebook-cell:/c%3A/Users/jtsw1/Desktop/projects/data-pipeline/src/adhoc/prompt_eng_testing.ipynb#X23sZmlsZQ%3D%3D?line=0'>1</a>\u001b[0m gen_id \u001b[39m=\u001b[39m response\u001b[39m.\u001b[39;49mjson()[\u001b[39m'\u001b[39;49m\u001b[39msdGenerationJob\u001b[39;49m\u001b[39m'\u001b[39;49m][\u001b[39m'\u001b[39m\u001b[39mgenerationId\u001b[39m\u001b[39m'\u001b[39m]\n",
      "\u001b[1;31mKeyError\u001b[0m: 'sdGenerationJob'"
     ]
    }
   ],
   "source": [
    "gen_id = response.json()['sdGenerationJob']['generationId']"
   ]
  },
  {
   "cell_type": "markdown",
   "metadata": {},
   "source": [
    "#### Grab the generated image from a CDN"
   ]
  },
  {
   "cell_type": "code",
   "execution_count": null,
   "metadata": {},
   "outputs": [
    {
     "name": "stdout",
     "output_type": "stream",
     "text": [
      "{\"generations_by_pk\":{\"generated_images\":[{\"url\":\"https://cdn.leonardo.ai/users/8c647f87-f517-478a-95a7-e7d8f2dc1271/generations/b46280d5-b877-4e49-8c23-556e6abce5ed/Leonardo_Diffusion_XL_Aurora_Frostwalker_a_majestic_elemental_0.jpg\",\"nsfw\":true,\"id\":\"be445f63-980f-4a06-9f89-df77478ddad9\",\"likeCount\":0,\"generated_image_variation_generics\":[]}],\"modelId\":\"1e60896f-3c26-4296-8ecc-53e2afecc132\",\"prompt\":\"Aurora Frostwalker, a majestic elemental with a slender, ethereal body encased in shimmering ice armor. Crystal-blue eyes, mirroring the frozen tundra, hold a mixture of compassion and determination. Long, flowing hair made of frost, dances in the frigid winds. Aurora stands tall, her outstretched arms emanating an icy aura that envelops the rescued souls, protecting them from the harsh snowstorm.\",\"negativePrompt\":\"\",\"imageHeight\":512,\"imageWidth\":512,\"inferenceSteps\":30,\"seed\":282296576,\"public\":false,\"scheduler\":\"EULER_DISCRETE\",\"sdVersion\":\"SDXL_0_9\",\"status\":\"COMPLETE\",\"presetStyle\":\"CINEMATIC\",\"initStrength\":null,\"guidanceScale\":null,\"id\":\"b46280d5-b877-4e49-8c23-556e6abce5ed\",\"createdAt\":\"2023-11-28T10:23:59.013\",\"promptMagic\":true,\"promptMagicVersion\":\"v2\",\"promptMagicStrength\":null,\"photoReal\":false,\"photoRealStrength\":null,\"generation_elements\":[]}}\n"
     ]
    }
   ],
   "source": [
    "url = f\"https://cloud.leonardo.ai/api/rest/v1/generations/{gen_id}\"\n",
    "\n",
    "headers = {\n",
    "    \"accept\": \"application/json\",\n",
    "    \"authorization\": f\"Bearer {leonardo_api_key}\"\n",
    "}\n",
    "\n",
    "response = requests.get(url, headers=headers)\n",
    "\n",
    "print(response.text)"
   ]
  },
  {
   "cell_type": "code",
   "execution_count": null,
   "metadata": {},
   "outputs": [
    {
     "name": "stdout",
     "output_type": "stream",
     "text": [
      "Born from the sacred glaciers, Aurora Frostwalker became the guardian of the frozen lands. As her powers awakened, she felt an empathic connection with those in need. She traverses the treacherous terrains, using her Frost Serenade ability to summon blizzards to rescue stranded individuals, safeguarding them from snowstorms and guiding them to safety. Aurora's heart is warmed by their grateful smiles. Born from the sacred glaciers, Aurora Frostwalker became the guardian of the frozen lands. As her powers awakened, she felt an empathic connection with those in need. She traverses the treacherous terrains, using her Frost Serenade ability to summon blizzards to rescue stranded individuals, safeguarding them from snowstorms and guiding them to safety. Aurora's heart is warmed by their grateful smiles.\n"
     ]
    }
   ],
   "source": [
    "print(final_text)"
   ]
  },
  {
   "cell_type": "code",
   "execution_count": null,
   "metadata": {},
   "outputs": [],
   "source": []
  },
  {
   "cell_type": "code",
   "execution_count": null,
   "metadata": {},
   "outputs": [],
   "source": []
  }
 ],
 "metadata": {
  "kernelspec": {
   "display_name": "general",
   "language": "python",
   "name": "python3"
  },
  "language_info": {
   "codemirror_mode": {
    "name": "ipython",
    "version": 3
   },
   "file_extension": ".py",
   "mimetype": "text/x-python",
   "name": "python",
   "nbconvert_exporter": "python",
   "pygments_lexer": "ipython3",
   "version": "3.11.4"
  }
 },
 "nbformat": 4,
 "nbformat_minor": 2
}
