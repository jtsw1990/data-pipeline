{
 "cells": [
  {
   "cell_type": "markdown",
   "metadata": {},
   "source": [
    "## Migration Testing - Leonardo"
   ]
  },
  {
   "cell_type": "markdown",
   "metadata": {},
   "source": [
    "#### Read in Currents feed"
   ]
  },
  {
   "cell_type": "code",
   "execution_count": 17,
   "metadata": {},
   "outputs": [],
   "source": [
    "from dotenv import load_dotenv\n",
    "from currentsapi import CurrentsAPI\n",
    "import os\n",
    "import json\n",
    "import requests\n",
    "import time\n",
    "import openai\n",
    "import random"
   ]
  },
  {
   "cell_type": "code",
   "execution_count": 18,
   "metadata": {},
   "outputs": [],
   "source": [
    "load_dotenv()\n",
    "currents_api_key = os.environ['currents_api_key']\n",
    "leonardo_api_key = os.environ['leonardo_key']\n",
    "openai.api_key = os.environ['openai_key']"
   ]
  },
  {
   "cell_type": "code",
   "execution_count": 19,
   "metadata": {},
   "outputs": [],
   "source": [
    "api = CurrentsAPI(api_key=currents_api_key)"
   ]
  },
  {
   "cell_type": "code",
   "execution_count": 20,
   "metadata": {},
   "outputs": [],
   "source": [
    "news_feed = api.search(country=\"\", language=\"en\", category=\"world\")"
   ]
  },
  {
   "cell_type": "markdown",
   "metadata": {},
   "source": [
    "#### Process into GPT prompt"
   ]
  },
  {
   "cell_type": "code",
   "execution_count": 21,
   "metadata": {},
   "outputs": [],
   "source": [
    "titles = [x['title'] for x in news_feed['news']]"
   ]
  },
  {
   "cell_type": "code",
   "execution_count": 33,
   "metadata": {},
   "outputs": [],
   "source": [
    "selected_snippet = random.choice(titles)"
   ]
  },
  {
   "cell_type": "code",
   "execution_count": 34,
   "metadata": {},
   "outputs": [
    {
     "data": {
      "text/plain": [
       "'Some Republicans Were Willing to Compromise on Abortion Ban Exceptions. Activists Made Sure They Didn’t.'"
      ]
     },
     "execution_count": 34,
     "metadata": {},
     "output_type": "execute_result"
    }
   ],
   "source": [
    "selected_snippet"
   ]
  },
  {
   "cell_type": "code",
   "execution_count": 35,
   "metadata": {},
   "outputs": [],
   "source": [
    "prompt_template = '''\n",
    "Using the following snippet encased in ```, generate an image prompt of an imaginery character  that is relevant to the snippet, be extravagent and detailed in the description of this character including the type of creature (if applicable) , race, age group, ethnicity and appearance. The character need not seem like someone that exists in the world currently.\n",
    "Also come up with a creative backstory in around 50 words on this character's origin story and his/her/its main superpower, and include some elements of the original snippet in the backstory.\n",
    "\n",
    "```Bangladesh Arrest Thousands in 'Violent' Crackdown: HRW```\n",
    "'''  # noqa: E501\n",
    "\n",
    "response_template = '''\n",
    "Imaginary Character: Oracle Lumineer\n",
    "\n",
    "Description:\n",
    "Oracle Lumineer, an ethereal being, appears as an ageless cosmic seer with radiant iridescent skin. Their eyes, gleaming with interstellar wisdom, reflect the struggles of oppressed souls. Adorned in celestial robes, they embody the resilience of hope in the face of darkness.\n",
    "\n",
    "Backstory:\n",
    "Originating from a cosmic realm, Oracle Lumineer descended to Earth as a response to cries for justice. Infused with the cosmic energy of empathy, they can traverse time and space, seeking out injustice to intervene and inspire change.\n",
    "\n",
    "Main Superpower:\n",
    "Cosmic Empathy - Oracle Lumineer possesses the ability to empathize with the collective suffering of oppressed individuals. Drawing on cosmic energies, they channel empathy to influence hearts and minds, fostering unity and inspiring resistance against systemic injustice.'''  # noqa: E501\n"
   ]
  },
  {
   "cell_type": "code",
   "execution_count": 36,
   "metadata": {},
   "outputs": [
    {
     "name": "stdout",
     "output_type": "stream",
     "text": [
      "Some Republicans Were Willing to Compromise on Abortion Ban Exceptions. Activists Made Sure They Didn’t.\n",
      "\n",
      "Imaginary Character: Harmony Stridefall\n",
      "\n",
      "Description:\n",
      "Harmony Stridefall, a fierce and enigmatic warrior, is of the elven race, known for their ethereal beauty and grace. With iridescent purple skin, opalescent eyes, and flowing hair shimmering like moonlit silver, they emanate an aura of profound strength and determination. Clad in intricately designed armor symbolizing balance, they bear the scars of battles fought for justice.\n",
      "\n",
      "Backstory:\n",
      "Harmony Stridefall was born within an ancient order of warriors dedicated to protecting the sacred balance of life. Imbued with the ancient powers of the forest, they discovered a hidden chamber containing a mystical amulet. This amulet granted them heightened abilities and a resolute commitment to safeguarding the rights of all living beings from unjust legislation.\n",
      "\n",
      "Main Superpower:\n",
      "Nature's Redemption - Harmony Stridefall possesses the ability to commune with nature, channeling its elemental forces in defense of fundamental rights. They can summon powerful gusts of wind to shield those in danger, heal wounds with the soothing essence of plants, and create impenetrable barriers woven from the strength of ancient trees. In the face of any threat to reproductive rights, they empower activists to rise and combat injustice with unwavering determination, ensuring no compromise in the face of oppression.\n"
     ]
    }
   ],
   "source": [
    "completion = openai.ChatCompletion.create(\n",
    "        model=\"gpt-3.5-turbo\",\n",
    "        messages=[\n",
    "            {\n",
    "                'role': 'system',\n",
    "                'content': 'You are a creative character designer'\n",
    "            },\n",
    "            {\n",
    "                'role': 'user',\n",
    "                'content': prompt_template\n",
    "            },\n",
    "            {\n",
    "                'role': 'assistant',\n",
    "                'content': response_template\n",
    "            },\n",
    "            {\n",
    "                'role': 'user',\n",
    "                'content': f'Do the same for the following snippet: `{selected_snippet}`'  # noqa: E501\n",
    "            }\n",
    "        ]\n",
    "    )\n",
    "\n",
    "image_prompt = completion.choices[0].message.content\n",
    "\n",
    "print(selected_snippet)\n",
    "print(image_prompt)"
   ]
  },
  {
   "cell_type": "code",
   "execution_count": 37,
   "metadata": {},
   "outputs": [],
   "source": [
    "prompt = image_prompt.replace('\\n', '').split('Description:')[-1].split('Backstory:')[0]\n",
    "post_text = image_prompt.replace('\\n', '').split('Backstory:')[-1]"
   ]
  },
  {
   "cell_type": "code",
   "execution_count": 38,
   "metadata": {},
   "outputs": [],
   "source": [
    "url = \"https://cloud.leonardo.ai/api/rest/v1/generations\"\n",
    "\n",
    "prompt = prompt"
   ]
  },
  {
   "cell_type": "markdown",
   "metadata": {},
   "source": [
    "#### Call Leonardo AI"
   ]
  },
  {
   "cell_type": "code",
   "execution_count": 49,
   "metadata": {},
   "outputs": [
    {
     "name": "stdout",
     "output_type": "stream",
     "text": [
      "{\"sdGenerationJob\":{\"generationId\":\"ed5d4e62-cd97-46c8-8ef3-e7e128ef4ae2\",\"apiCreditCost\":24}}\n",
      "Sleeping...0\n",
      "Sleeping...1\n",
      "Sleeping...2\n",
      "Sleeping...3\n",
      "Sleeping...4\n",
      "Sleeping...5\n",
      "Sleeping...6\n",
      "Sleeping...7\n",
      "Sleeping...8\n",
      "Sleeping...9\n",
      "Sleeping...10\n",
      "Sleeping...11\n",
      "Sleeping...12\n",
      "Sleeping...13\n",
      "Sleeping...14\n",
      "Sleeping...15\n",
      "Sleeping...16\n",
      "Sleeping...17\n",
      "Sleeping...18\n",
      "Sleeping...19\n"
     ]
    }
   ],
   "source": [
    "\n",
    "url = \"https://cloud.leonardo.ai/api/rest/v1/generations\"\n",
    "\n",
    "payload = {\n",
    "    \"height\": 512,\n",
    "    # alch leonardov2\n",
    "    \"modelId\": \"1e60896f-3c26-4296-8ecc-53e2afecc132\",\n",
    "    # rpgv5\n",
    "    # \"modelId\": \"f1929ea3-b169-4c18-a16c-5d58b4292c69\",\n",
    "    \"prompt\": prompt,\n",
    "    \"width\": 512,\n",
    "    \"alchemy\": True,\n",
    "    \"highResolution\": True,\n",
    "    \"nsfw\": True,\n",
    "    \"num_images\": 1,\n",
    "    \"promptMagic\": True,\n",
    "    #\"photoReal\": True,\n",
    "    #\"photoRealStrength\": 0.5,\n",
    "    \"presetStyle\": \"CINEMATIC\",\n",
    "    \"expandedDomain\": True\n",
    "}\n",
    "headers = {\n",
    "    \"accept\": \"application/json\",\n",
    "    \"content-type\": \"application/json\",\n",
    "    \"authorization\": f\"Bearer {leonardo_api_key}\"\n",
    "}\n",
    "\n",
    "response = requests.post(url, json=payload, headers=headers)\n",
    "\n",
    "print(response.text)\n",
    "for k in range(20):\n",
    "    print(f'Sleeping...{k}')\n",
    "    time.sleep(1)"
   ]
  },
  {
   "cell_type": "code",
   "execution_count": 50,
   "metadata": {},
   "outputs": [
    {
     "data": {
      "text/plain": [
       "{'sdGenerationJob': {'generationId': 'ed5d4e62-cd97-46c8-8ef3-e7e128ef4ae2',\n",
       "  'apiCreditCost': 24}}"
      ]
     },
     "execution_count": 50,
     "metadata": {},
     "output_type": "execute_result"
    }
   ],
   "source": [
    "response.json()"
   ]
  },
  {
   "cell_type": "code",
   "execution_count": 51,
   "metadata": {},
   "outputs": [],
   "source": [
    "gen_id = response.json()['sdGenerationJob']['generationId']"
   ]
  },
  {
   "cell_type": "markdown",
   "metadata": {},
   "source": [
    "#### Grab the generated image from a CDN"
   ]
  },
  {
   "cell_type": "code",
   "execution_count": 52,
   "metadata": {},
   "outputs": [
    {
     "name": "stdout",
     "output_type": "stream",
     "text": [
      "{\"generations_by_pk\":{\"generated_images\":[{\"url\":\"https://cdn.leonardo.ai/users/8c647f87-f517-478a-95a7-e7d8f2dc1271/generations/ed5d4e62-cd97-46c8-8ef3-e7e128ef4ae2/Leonardo_Diffusion_XL_Harmony_Stridefall_a_fierce_and_enigmati_0.jpg\",\"nsfw\":false,\"id\":\"d4b3dfdd-fd7f-43e1-a884-1b0e86646930\",\"likeCount\":0,\"generated_image_variation_generics\":[]}],\"modelId\":\"1e60896f-3c26-4296-8ecc-53e2afecc132\",\"prompt\":\"Harmony Stridefall, a fierce and enigmatic warrior, is of the elven race, known for their ethereal beauty and grace. With iridescent purple skin, opalescent eyes, and flowing hair shimmering like moonlit silver, they emanate an aura of profound strength and determination. Clad in intricately designed armor symbolizing balance, they bear the scars of battles fought for justice.\",\"negativePrompt\":\"\",\"imageHeight\":512,\"imageWidth\":512,\"inferenceSteps\":30,\"seed\":741720576,\"public\":false,\"scheduler\":\"EULER_DISCRETE\",\"sdVersion\":\"SDXL_0_9\",\"status\":\"COMPLETE\",\"presetStyle\":\"CINEMATIC\",\"initStrength\":null,\"guidanceScale\":null,\"id\":\"ed5d4e62-cd97-46c8-8ef3-e7e128ef4ae2\",\"createdAt\":\"2023-11-27T12:27:18.521\",\"promptMagic\":true,\"promptMagicVersion\":\"v2\",\"promptMagicStrength\":null,\"photoReal\":false,\"photoRealStrength\":null,\"generation_elements\":[]}}\n"
     ]
    }
   ],
   "source": [
    "url = f\"https://cloud.leonardo.ai/api/rest/v1/generations/{gen_id}\"\n",
    "\n",
    "headers = {\n",
    "    \"accept\": \"application/json\",\n",
    "    \"authorization\": f\"Bearer {leonardo_api_key}\"\n",
    "}\n",
    "\n",
    "response = requests.get(url, headers=headers)\n",
    "\n",
    "print(response.text)"
   ]
  },
  {
   "cell_type": "code",
   "execution_count": 53,
   "metadata": {},
   "outputs": [
    {
     "name": "stdout",
     "output_type": "stream",
     "text": [
      "Harmony Stridefall was born within an ancient order of warriors dedicated to protecting the sacred balance of life. Imbued with the ancient powers of the forest, they discovered a hidden chamber containing a mystical amulet. This amulet granted them heightened abilities and a resolute commitment to safeguarding the rights of all living beings from unjust legislation.Main Superpower:Nature's Redemption - Harmony Stridefall possesses the ability to commune with nature, channeling its elemental forces in defense of fundamental rights. They can summon powerful gusts of wind to shield those in danger, heal wounds with the soothing essence of plants, and create impenetrable barriers woven from the strength of ancient trees. In the face of any threat to reproductive rights, they empower activists to rise and combat injustice with unwavering determination, ensuring no compromise in the face of oppression.\n"
     ]
    }
   ],
   "source": [
    "print(post_text)"
   ]
  },
  {
   "cell_type": "code",
   "execution_count": null,
   "metadata": {},
   "outputs": [],
   "source": []
  }
 ],
 "metadata": {
  "kernelspec": {
   "display_name": "general",
   "language": "python",
   "name": "python3"
  },
  "language_info": {
   "codemirror_mode": {
    "name": "ipython",
    "version": 3
   },
   "file_extension": ".py",
   "mimetype": "text/x-python",
   "name": "python",
   "nbconvert_exporter": "python",
   "pygments_lexer": "ipython3",
   "version": "3.11.4"
  }
 },
 "nbformat": 4,
 "nbformat_minor": 2
}
